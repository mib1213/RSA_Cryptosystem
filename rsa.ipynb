{
 "cells": [
  {
   "cell_type": "code",
   "execution_count": 2,
   "metadata": {},
   "outputs": [],
   "source": [
    "import random\n",
    "from utils import (zufällige_primzahl, teiler_fremde_zahlen, multiplikative_inverse, \n",
    "                   verschlüsseln, entschlüsseln, kontrolle)"
   ]
  },
  {
   "cell_type": "code",
   "execution_count": 3,
   "metadata": {},
   "outputs": [],
   "source": [
    "RANDOM_SEED = 42\n",
    "\n",
    "# Ich verwende einen Random Seed, damit das Random Modul bei jeder Ausführung dieselben Werte zurückgibt.\n",
    "# Wenn man aber andere Werte aus dem Random Modul generieren möchte, sollte man entweder einen anderen Seed \n",
    "# verwenden oder einfach den Seed komplett löschen, um bei jeder Ausführung neue Zufallswerte zu erhalten."
   ]
  },
  {
   "cell_type": "markdown",
   "metadata": {},
   "source": [
    "### RSA Verfahren"
   ]
  },
  {
   "cell_type": "markdown",
   "metadata": {},
   "source": [
    "1 - Wähle zwei verschiedene Primzahlen $p$ und $q$ sodass:\n",
    "$$p, q \\in \\mathbb{P} \\, \\land \\, p \\neq q$$"
   ]
  },
  {
   "cell_type": "code",
   "execution_count": 4,
   "metadata": {},
   "outputs": [
    {
     "name": "stdout",
     "output_type": "stream",
     "text": [
      "p = 3 | q = 5\n"
     ]
    }
   ],
   "source": [
    "# zufällige p und q generieren\n",
    "\n",
    "random.seed(RANDOM_SEED)\n",
    "p: int = zufällige_primzahl(3, 13)\n",
    "q: int = zufällige_primzahl(3, 13, außer=p)\n",
    "\n",
    "print(f\"{p = } | {q = }\")"
   ]
  },
  {
   "cell_type": "markdown",
   "metadata": {},
   "source": [
    "2 - Berechne das Produkt $N$:\n",
    "$$N = p.q$$\n",
    "\n",
    "dieses N ist unsere Modulo Basis."
   ]
  },
  {
   "cell_type": "code",
   "execution_count": 5,
   "metadata": {},
   "outputs": [
    {
     "name": "stdout",
     "output_type": "stream",
     "text": [
      "N = 15\n"
     ]
    }
   ],
   "source": [
    "# N berechnen\n",
    "\n",
    "N: int = p * q\n",
    "\n",
    "print(f\"{N = }\")"
   ]
  },
  {
   "cell_type": "markdown",
   "metadata": {},
   "source": [
    "3 - Berechne die Anzahl der zu N teilerfremden Zahlen, die auch kleiner als N sind, mit der folgenden Formel:\n",
    "$$ \\varphi(N) = \\varphi(p, q) = (p - 1)(q - 1)$$\n",
    "\n",
    "wobei, $\\varphi(n)$ ist definiert als:\n",
    "\n",
    "$$ \\varphi(n) = |\\{k \\in \\mathbb{N} \\, | \\, 1 ≤ k < n \\, \\land \\, ggT(k, n) = 1 \\}| $$\n",
    "\n",
    "einfacher gesagt, Anzahl aller zu $n$ teilerfremden Zahlen, die kleiner als $n$ sind.\n",
    "\n",
    "Beispiel:\n",
    "\n",
    "In unserem Beispiel haben wir $N = 15$, d.h. wir betrachten alle Zahlen $\\in \\mathbb{N}$ die kleiner als N und zu N teilerfremd sind:\n",
    "\n",
    "$$ N = 15 = |\\{1, 2, 3, 4, 5, 6, 7, 8, 9, 10, 11, 12, 13, 14, 15\\}|$$\n",
    "\n",
    "\n",
    "$\\{1, 3, 5, 15\\}$ sind teiler von 15 $\\Rightarrow$ nicht teilerfremd.\n",
    "\n",
    "\n",
    "$\\{6, 9, 12\\}$ hat den ggT $3$ mit $15$, i.e. $ggT([6, 9, 12], 15) = 3 \\, \\Rightarrow$ nicht teilerfremd.\n",
    "\n",
    "$\\{10\\}$ hat den ggT $5$ mit $15$, i.e. $ggT(10, 15) = 5 \\, \\Rightarrow$ auch nicht teilerfremd.\n",
    "\n",
    "dann haben wir nur noch $\\{1, 2, 4, 7, 8, 11, 13, 14\\}$ übrig, die mit $15$ ggT = 1 haben bzw. zu $15$ teilerfremd sind, und die Anzahl dieser Zahlen ist $\\varphi(15) = 8$\n",
    "\n",
    "\n",
    "Wie gesagt, das gleiche kann auch einfach mit der Formel $ \\varphi(N) = (p - 1)(q - 1)$ berechnet werden.\n",
    "\n",
    "\n",
    "**Hinweis**: Die Begriffe \"Teilerfremd\" und \"$ggT = 1$\" sind synonym und beschreiben dasselbe Konzept."
   ]
  },
  {
   "cell_type": "code",
   "execution_count": 6,
   "metadata": {},
   "outputs": [
    {
     "name": "stdout",
     "output_type": "stream",
     "text": [
      "phi(N) = 8\n"
     ]
    }
   ],
   "source": [
    "# phi(N) berechnen\n",
    "\n",
    "phi: int = (p - 1) * (q - 1)\n",
    "\n",
    "print(f\"phi(N) = {phi}\")"
   ]
  },
  {
   "cell_type": "markdown",
   "metadata": {},
   "source": [
    "4 - Wähle eine Encryption Exponenten $e$, sodass:\n",
    "$$ 1 < e < \\varphi(N) \\, \\land \\, ggT(e, \\, \\varphi(N)) = 1$$\n",
    "\n",
    "d.h. irgendeine $e$, der Teilerfremd zu $\\varphi(N)$ ist.\n",
    "\n",
    "In Unserem Fall wären $\\{3, 5, 7\\}$ alle möglichen $e$ aus ($1 < \\{2, 3, 4, 5, 6, 7\\} < \\varphi(N) = 8)$, die zu $8$ teilerfremd sind, weil $ggT([3, 5, 7], \\, 8) = 1$\n",
    "\n",
    "Wir können hier beliebig ein $e$ auswählen, z.B. $e = 7$"
   ]
  },
  {
   "cell_type": "code",
   "execution_count": 7,
   "metadata": {},
   "outputs": [
    {
     "name": "stdout",
     "output_type": "stream",
     "text": [
      "Alle mögliche e = [3, 5, 7]\n",
      "e = 7\n"
     ]
    }
   ],
   "source": [
    "# e berechnen\n",
    "\n",
    "random.seed(RANDOM_SEED)\n",
    "\n",
    "e_list: list[int] = teiler_fremde_zahlen(phi)\n",
    "# Diese Funktion vergleicht die Teiler aller Zahlen zwischen 2 und phi(N) mit den Teilern \n",
    "# von phi(N), siehe utils.py für Details.\n",
    "\n",
    "# wähle eine zufällige Zahl e aus e_list\n",
    "e: int = random.choice(e_list)\n",
    "\n",
    "print(f\"Alle mögliche e = {e_list}\")\n",
    "print(f\"{e = }\")"
   ]
  },
  {
   "cell_type": "markdown",
   "metadata": {},
   "source": [
    "Jetzt haben wir schon unseren öffentlichen Schlüssel:\n",
    "$$Pubkey = (e, N)$$"
   ]
  },
  {
   "cell_type": "code",
   "execution_count": 8,
   "metadata": {},
   "outputs": [
    {
     "name": "stdout",
     "output_type": "stream",
     "text": [
      "Pubkey = (7, 15)\n"
     ]
    }
   ],
   "source": [
    "# der öffentliche Schlüssel\n",
    "\n",
    "print(f\"Pubkey = ({e}, {N})\")"
   ]
  },
  {
   "cell_type": "markdown",
   "metadata": {},
   "source": [
    "5 - Berechne die Decryption Exponenten $d$ sodass:\n",
    "$$e\\,.\\,d \\mod \\varphi(N) \\equiv 1$$\n",
    "d.h. wenn wir die beide Zahlen $d$ und $e$ miteinander multiplizieren und daraus modulo $\\varphi(N)$ nehmen, sollte 1 als Ergebnis rauskommen.\n",
    "\n",
    "z.B. \n",
    "\n",
    "$$7\\, . \\, 23 \\mod 8 = 161 \\mod 8 \\equiv 1$$\n",
    "\n",
    "**Hinweis**: Modulo berechnet man indem man eine Zahl durch die Basis von Module teilt und nur den Rest als Ergebnis mit dem Symbol \"$\\equiv$\" angibt.\n",
    "\n",
    "z.B. \n",
    "$$7 \\mod 5 \\equiv 2$$\n",
    "$$25 \\mod 5 \\equiv 0$$\n",
    "$$10 \\mod 12 \\equiv 10$$\n",
    "\n",
    "Wie berechnen wir aber den multiplikativen Inverse wenn wir nur $e$ und $\\varphi(N)$ kennen?\n",
    "\n",
    "Es gibt verschiedene Algorithmen, die den Inversen in diesem Fall einfach berechnen lassen. Man kann aber auch manuell vorgehen. Zum Beispiel versuchen wir für alle natürlichen Zahlen ab 2,\n",
    "ob das Produkt dieser Zahl mit $d$ darauf modulo $\\varphi(N)$, den Rest 1 ergibt. So könnten theoretisch unendlich viele Werte für den Inversen gefunden werden, aber wir nehmen einfach den ersten Wert, den wir finden, mit der Bedingung, $$d \\neq e \\, \\land \\, d \\neq N$$\n",
    "\n",
    "Genause macht **'multiplikative_inverse'** Funktion aus Utils.\n",
    "\n",
    "Wenn wir manuell so berechnen, bekommen wir als erstes den Wert $23$, sodass:\n",
    "$$7\\, . \\, 23 \\mod 8 = 161 \\mod 8 \\equiv 1$$"
   ]
  },
  {
   "cell_type": "code",
   "execution_count": 9,
   "metadata": {},
   "outputs": [
    {
     "name": "stdout",
     "output_type": "stream",
     "text": [
      "d = 23\n"
     ]
    }
   ],
   "source": [
    "# d berechnen\n",
    "\n",
    "d: int = multiplikative_inverse(e, phi, N)\n",
    "\n",
    "print(f\"{d = }\")"
   ]
  },
  {
   "cell_type": "markdown",
   "metadata": {},
   "source": [
    "Somit haben wir unseren privaten Schlüssel:\n",
    "$$ Privkey = (d, \\, \\varphi(N))$$"
   ]
  },
  {
   "cell_type": "code",
   "execution_count": 10,
   "metadata": {},
   "outputs": [
    {
     "name": "stdout",
     "output_type": "stream",
     "text": [
      "Privkey = (23, 8)\n"
     ]
    }
   ],
   "source": [
    "# der private Schlüssel\n",
    "\n",
    "print(f\"Privkey = ({d}, {phi})\")"
   ]
  },
  {
   "cell_type": "markdown",
   "metadata": {},
   "source": [
    "### Verschlüsselung\n",
    "\n",
    "Wir wollen z.B. unsere Nachricht $m = 2$ ($m < N$ sein) verschlüsseln, dafür brauchen wir nur den öffentlichen Schlüssel nämlich $Pubkey = (7, 15)$\n",
    "\n",
    "$$e : m \\mapsto e_{Pubkey}(m) = m^e \\mod N = c$$\n",
    "$$\\Rightarrow c = 2^7 \\mod 15 = 128 \\mod 15 = 8$$\n",
    "\n",
    "$\\Rightarrow$ Unsere verschlüsselte Nachricht $c$ ist: $8$\n",
    "\n",
    "Genau das gleiche macht die Funktion '**verschlüsseln**' aus Utils"
   ]
  },
  {
   "cell_type": "code",
   "execution_count": 11,
   "metadata": {},
   "outputs": [
    {
     "name": "stdout",
     "output_type": "stream",
     "text": [
      "Plaintext: m = 2\n",
      "Verschlüsselter Text: c = 8\n"
     ]
    }
   ],
   "source": [
    "# m verschlüsseln\n",
    "\n",
    "m = 2\n",
    "c: int = verschlüsseln(m, e, N)\n",
    "\n",
    "print(f\"Plaintext: {m = }\")\n",
    "print(f\"Verschlüsselter Text: {c = }\")"
   ]
  },
  {
   "cell_type": "markdown",
   "metadata": {},
   "source": [
    "### Entschlüsselung\n",
    "\n",
    "Jetzt wollen wir die verschlüsselte Nachricht $c = 8$ entschlüsseln, dafür brauchen wir unseren privaten Schlüssel, nämlich $Privkey = (23, 8)$\n",
    "\n",
    "$$d : c \\mapsto d_{Privkey}(c) = c^d \\mod N = m$$\n",
    "$$\\Rightarrow m = 8^{23} \\mod 8 = 2$$\n",
    "\n",
    "$\\Rightarrow$ Unsere entschlüsselte Nachricht $m$ ist $2$, was dem urspüngilichen Plaintext entspricht.\n",
    "\n",
    "Genau das gleiche macht die Funktion '**entschlüsseln**' aus Utils"
   ]
  },
  {
   "cell_type": "code",
   "execution_count": 12,
   "metadata": {},
   "outputs": [
    {
     "name": "stdout",
     "output_type": "stream",
     "text": [
      "Text nach dem Entschlüsseln: m = 2\n"
     ]
    }
   ],
   "source": [
    "# c entschlüsseln\n",
    "\n",
    "m: int = entschlüsseln(c, d, N)\n",
    "\n",
    "print(f\"Text nach dem Entschlüsseln: {m = }\")"
   ]
  },
  {
   "cell_type": "markdown",
   "metadata": {},
   "source": [
    "Jetzt wollen wir kontrollieren, ob das immer gelten würde, falls $m < N$ ist. In der Funktion **kontrolle** aus Utils, prüfen wir für jede einzilne Zahl m aus (1; N), ob der Rückgabewert von 'entschlüsseln' wieder den Plaintext ergibt."
   ]
  },
  {
   "cell_type": "code",
   "execution_count": 13,
   "metadata": {},
   "outputs": [
    {
     "name": "stdout",
     "output_type": "stream",
     "text": [
      "True\n"
     ]
    }
   ],
   "source": [
    "# kontrolle\n",
    "\n",
    "print(kontrolle(e, d, N))"
   ]
  },
  {
   "cell_type": "markdown",
   "metadata": {},
   "source": [
    "Sobald der Rückgabewert der 'kontrolle' Funktion \"TRUE\" ist, heißt das also, dass dieses Algorithm wird immer für alle $m < N$ funktionieren."
   ]
  }
 ],
 "metadata": {
  "kernelspec": {
   "display_name": "env",
   "language": "python",
   "name": "python3"
  },
  "language_info": {
   "codemirror_mode": {
    "name": "ipython",
    "version": 3
   },
   "file_extension": ".py",
   "mimetype": "text/x-python",
   "name": "python",
   "nbconvert_exporter": "python",
   "pygments_lexer": "ipython3",
   "version": "3.11.10"
  }
 },
 "nbformat": 4,
 "nbformat_minor": 2
}
